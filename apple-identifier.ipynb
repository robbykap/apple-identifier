{
 "cells": [
  {
   "cell_type": "markdown",
   "metadata": {},
   "source": [
    "# Apple Identification Model\n",
    "\n",
    "See [README.md](README.md) for more information on this project."
   ]
  },
  {
   "cell_type": "markdown",
   "metadata": {},
   "source": [
    "## Table of Contents\n",
    "- [Dataset](##dataset)\n",
    "    - [Filtering Data](###filtering-data)\n",
    "    - [Data Preprocessing](###data-preprocessing)\n",
    "- [Model](##model)\n",
    "    - [Model Architecture](###model-architecture)\n",
    "    - [Training](###training)\n",
    "    - [Evaluation](###evaluation)\n",
    "- [Results](##results)\n",
    "- [Conclusion](##conclusion)\n"
   ]
  },
  {
   "cell_type": "code",
   "execution_count": 1,
   "metadata": {},
   "outputs": [],
   "source": [
    "import kaggle\n",
    "from kaggle.api.kaggle_api_extended import KaggleApi"
   ]
  },
  {
   "cell_type": "markdown",
   "metadata": {},
   "source": [
    "## Dataset\n",
    "The dataset used is the Fruits360 dataset from Kaggle, which contains images of various fruits. I will be filtering the dataset to only include apples and their different varieties."
   ]
  },
  {
   "cell_type": "markdown",
   "metadata": {},
   "source": [
    "### Filtering Data\n",
    "The dataset contains a large number of fruit images, but we will only be using the apple images."
   ]
  },
  {
   "cell_type": "code",
   "execution_count": 2,
   "metadata": {},
   "outputs": [
    {
     "name": "stdout",
     "output_type": "stream",
     "text": [
      "Dataset URL: https://www.kaggle.com/datasets/moltean/fruits\n"
     ]
    }
   ],
   "source": [
    "kaggle_api = KaggleApi()\n",
    "kaggle_api.authenticate()\n",
    "\n",
    "# Download the fruits dataset from Kaggle\n",
    "kaggle_api.dataset_download_files('moltean/fruits', path='fruits_dataset', unzip=True)"
   ]
  },
  {
   "cell_type": "code",
   "execution_count": null,
   "metadata": {},
   "outputs": [],
   "source": []
  }
 ],
 "metadata": {
  "kernelspec": {
   "display_name": "Python 3",
   "language": "python",
   "name": "python3"
  },
  "language_info": {
   "codemirror_mode": {
    "name": "ipython",
    "version": 3
   },
   "file_extension": ".py",
   "mimetype": "text/x-python",
   "name": "python",
   "nbconvert_exporter": "python",
   "pygments_lexer": "ipython3",
   "version": "3.11.5"
  }
 },
 "nbformat": 4,
 "nbformat_minor": 2
}
